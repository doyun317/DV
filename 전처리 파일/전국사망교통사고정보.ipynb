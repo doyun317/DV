{
 "cells": [
  {
   "cell_type": "code",
   "execution_count": 1,
   "metadata": {},
   "outputs": [],
   "source": [
    "import numpy as np\n",
    "import pandas as pd\n",
    "df = pd.read_csv(\"도로교통공단_전국_사망교통사고정보(2018)_20190910.csv\",encoding='CP949')"
   ]
  },
  {
   "cell_type": "code",
   "execution_count": 2,
   "metadata": {
    "scrolled": true
   },
   "outputs": [
    {
     "data": {
      "text/html": [
       "<div>\n",
       "<style scoped>\n",
       "    .dataframe tbody tr th:only-of-type {\n",
       "        vertical-align: middle;\n",
       "    }\n",
       "\n",
       "    .dataframe tbody tr th {\n",
       "        vertical-align: top;\n",
       "    }\n",
       "\n",
       "    .dataframe thead th {\n",
       "        text-align: right;\n",
       "    }\n",
       "</style>\n",
       "<table border=\"1\" class=\"dataframe\">\n",
       "  <thead>\n",
       "    <tr style=\"text-align: right;\">\n",
       "      <th></th>\n",
       "      <th>발생년</th>\n",
       "      <th>발생년월일시분</th>\n",
       "      <th>주야</th>\n",
       "      <th>요일</th>\n",
       "      <th>사망자수</th>\n",
       "      <th>사상자수</th>\n",
       "      <th>중상자수</th>\n",
       "      <th>경상자수</th>\n",
       "      <th>부상신고자수</th>\n",
       "      <th>발생지시도</th>\n",
       "      <th>...</th>\n",
       "      <th>도로형태_대분류</th>\n",
       "      <th>도로형태</th>\n",
       "      <th>가해자_당사자종별_대분류</th>\n",
       "      <th>가해자_당사자종별</th>\n",
       "      <th>피해자_당사자종별_대분류</th>\n",
       "      <th>피해자_당사자종별</th>\n",
       "      <th>발생위치X_UTMK</th>\n",
       "      <th>발생위치Y_UTMK</th>\n",
       "      <th>경도</th>\n",
       "      <th>위도</th>\n",
       "    </tr>\n",
       "  </thead>\n",
       "  <tbody>\n",
       "    <tr>\n",
       "      <td>0</td>\n",
       "      <td>2018</td>\n",
       "      <td>2018-02-14 06:35</td>\n",
       "      <td>주</td>\n",
       "      <td>수</td>\n",
       "      <td>1</td>\n",
       "      <td>1</td>\n",
       "      <td>0</td>\n",
       "      <td>0</td>\n",
       "      <td>0</td>\n",
       "      <td>서울</td>\n",
       "      <td>...</td>\n",
       "      <td>단일로</td>\n",
       "      <td>기타단일로</td>\n",
       "      <td>승용차</td>\n",
       "      <td>승용차</td>\n",
       "      <td>보행자</td>\n",
       "      <td>보행자</td>\n",
       "      <td>950497.0</td>\n",
       "      <td>1954702.0</td>\n",
       "      <td>126.939274</td>\n",
       "      <td>37.590388</td>\n",
       "    </tr>\n",
       "    <tr>\n",
       "      <td>1</td>\n",
       "      <td>2018</td>\n",
       "      <td>2018-09-02 05:23</td>\n",
       "      <td>야</td>\n",
       "      <td>일</td>\n",
       "      <td>1</td>\n",
       "      <td>1</td>\n",
       "      <td>0</td>\n",
       "      <td>0</td>\n",
       "      <td>0</td>\n",
       "      <td>서울</td>\n",
       "      <td>...</td>\n",
       "      <td>교차로</td>\n",
       "      <td>교차로횡단보도내</td>\n",
       "      <td>승용차</td>\n",
       "      <td>승용차</td>\n",
       "      <td>보행자</td>\n",
       "      <td>보행자</td>\n",
       "      <td>953337.0</td>\n",
       "      <td>1950150.0</td>\n",
       "      <td>126.971732</td>\n",
       "      <td>37.549508</td>\n",
       "    </tr>\n",
       "    <tr>\n",
       "      <td>2</td>\n",
       "      <td>2018</td>\n",
       "      <td>2018-12-15 22:35</td>\n",
       "      <td>야</td>\n",
       "      <td>토</td>\n",
       "      <td>1</td>\n",
       "      <td>1</td>\n",
       "      <td>0</td>\n",
       "      <td>0</td>\n",
       "      <td>0</td>\n",
       "      <td>서울</td>\n",
       "      <td>...</td>\n",
       "      <td>단일로</td>\n",
       "      <td>기타단일로</td>\n",
       "      <td>이륜차</td>\n",
       "      <td>이륜차</td>\n",
       "      <td>없음</td>\n",
       "      <td>없음</td>\n",
       "      <td>956967.0</td>\n",
       "      <td>1954807.0</td>\n",
       "      <td>127.012552</td>\n",
       "      <td>37.591659</td>\n",
       "    </tr>\n",
       "    <tr>\n",
       "      <td>3</td>\n",
       "      <td>2018</td>\n",
       "      <td>2018-08-23 11:30</td>\n",
       "      <td>주</td>\n",
       "      <td>목</td>\n",
       "      <td>1</td>\n",
       "      <td>1</td>\n",
       "      <td>0</td>\n",
       "      <td>0</td>\n",
       "      <td>0</td>\n",
       "      <td>서울</td>\n",
       "      <td>...</td>\n",
       "      <td>단일로</td>\n",
       "      <td>기타단일로</td>\n",
       "      <td>승합차</td>\n",
       "      <td>승합차</td>\n",
       "      <td>없음</td>\n",
       "      <td>없음</td>\n",
       "      <td>958020.0</td>\n",
       "      <td>1959193.0</td>\n",
       "      <td>127.024227</td>\n",
       "      <td>37.631240</td>\n",
       "    </tr>\n",
       "    <tr>\n",
       "      <td>4</td>\n",
       "      <td>2018</td>\n",
       "      <td>2018-07-16 00:50</td>\n",
       "      <td>야</td>\n",
       "      <td>월</td>\n",
       "      <td>1</td>\n",
       "      <td>1</td>\n",
       "      <td>0</td>\n",
       "      <td>0</td>\n",
       "      <td>0</td>\n",
       "      <td>서울</td>\n",
       "      <td>...</td>\n",
       "      <td>교차로</td>\n",
       "      <td>교차로횡단보도내</td>\n",
       "      <td>화물차</td>\n",
       "      <td>화물차</td>\n",
       "      <td>보행자</td>\n",
       "      <td>보행자</td>\n",
       "      <td>957606.0</td>\n",
       "      <td>1958258.0</td>\n",
       "      <td>127.019590</td>\n",
       "      <td>37.622794</td>\n",
       "    </tr>\n",
       "  </tbody>\n",
       "</table>\n",
       "<p>5 rows × 26 columns</p>\n",
       "</div>"
      ],
      "text/plain": [
       "    발생년           발생년월일시분 주야 요일  사망자수  사상자수  중상자수  경상자수  부상신고자수 발생지시도  ...  \\\n",
       "0  2018  2018-02-14 06:35  주  수     1     1     0     0       0    서울  ...   \n",
       "1  2018  2018-09-02 05:23  야  일     1     1     0     0       0    서울  ...   \n",
       "2  2018  2018-12-15 22:35  야  토     1     1     0     0       0    서울  ...   \n",
       "3  2018  2018-08-23 11:30  주  목     1     1     0     0       0    서울  ...   \n",
       "4  2018  2018-07-16 00:50  야  월     1     1     0     0       0    서울  ...   \n",
       "\n",
       "  도로형태_대분류      도로형태 가해자_당사자종별_대분류 가해자_당사자종별 피해자_당사자종별_대분류 피해자_당사자종별  \\\n",
       "0      단일로     기타단일로           승용차       승용차           보행자       보행자   \n",
       "1      교차로  교차로횡단보도내           승용차       승용차           보행자       보행자   \n",
       "2      단일로     기타단일로           이륜차       이륜차            없음        없음   \n",
       "3      단일로     기타단일로           승합차       승합차            없음        없음   \n",
       "4      교차로  교차로횡단보도내           화물차       화물차           보행자       보행자   \n",
       "\n",
       "  발생위치X_UTMK 발생위치Y_UTMK          경도         위도  \n",
       "0   950497.0  1954702.0  126.939274  37.590388  \n",
       "1   953337.0  1950150.0  126.971732  37.549508  \n",
       "2   956967.0  1954807.0  127.012552  37.591659  \n",
       "3   958020.0  1959193.0  127.024227  37.631240  \n",
       "4   957606.0  1958258.0  127.019590  37.622794  \n",
       "\n",
       "[5 rows x 26 columns]"
      ]
     },
     "execution_count": 2,
     "metadata": {},
     "output_type": "execute_result"
    }
   ],
   "source": [
    "df.head()"
   ]
  },
  {
   "cell_type": "code",
   "execution_count": 3,
   "metadata": {},
   "outputs": [],
   "source": [
    "df=df[df[\"사고유형_대분류\"] == \"차대사람\"]"
   ]
  },
  {
   "cell_type": "code",
   "execution_count": 4,
   "metadata": {
    "scrolled": false
   },
   "outputs": [
    {
     "data": {
      "text/html": [
       "<div>\n",
       "<style scoped>\n",
       "    .dataframe tbody tr th:only-of-type {\n",
       "        vertical-align: middle;\n",
       "    }\n",
       "\n",
       "    .dataframe tbody tr th {\n",
       "        vertical-align: top;\n",
       "    }\n",
       "\n",
       "    .dataframe thead th {\n",
       "        text-align: right;\n",
       "    }\n",
       "</style>\n",
       "<table border=\"1\" class=\"dataframe\">\n",
       "  <thead>\n",
       "    <tr style=\"text-align: right;\">\n",
       "      <th></th>\n",
       "      <th>발생년</th>\n",
       "      <th>발생년월일시분</th>\n",
       "      <th>주야</th>\n",
       "      <th>요일</th>\n",
       "      <th>사망자수</th>\n",
       "      <th>사상자수</th>\n",
       "      <th>중상자수</th>\n",
       "      <th>경상자수</th>\n",
       "      <th>부상신고자수</th>\n",
       "      <th>발생지시도</th>\n",
       "      <th>...</th>\n",
       "      <th>도로형태_대분류</th>\n",
       "      <th>도로형태</th>\n",
       "      <th>가해자_당사자종별_대분류</th>\n",
       "      <th>가해자_당사자종별</th>\n",
       "      <th>피해자_당사자종별_대분류</th>\n",
       "      <th>피해자_당사자종별</th>\n",
       "      <th>발생위치X_UTMK</th>\n",
       "      <th>발생위치Y_UTMK</th>\n",
       "      <th>경도</th>\n",
       "      <th>위도</th>\n",
       "    </tr>\n",
       "  </thead>\n",
       "  <tbody>\n",
       "    <tr>\n",
       "      <td>0</td>\n",
       "      <td>2018</td>\n",
       "      <td>2018-02-14 06:35</td>\n",
       "      <td>주</td>\n",
       "      <td>수</td>\n",
       "      <td>1</td>\n",
       "      <td>1</td>\n",
       "      <td>0</td>\n",
       "      <td>0</td>\n",
       "      <td>0</td>\n",
       "      <td>서울</td>\n",
       "      <td>...</td>\n",
       "      <td>단일로</td>\n",
       "      <td>기타단일로</td>\n",
       "      <td>승용차</td>\n",
       "      <td>승용차</td>\n",
       "      <td>보행자</td>\n",
       "      <td>보행자</td>\n",
       "      <td>950497.0</td>\n",
       "      <td>1954702.0</td>\n",
       "      <td>126.939274</td>\n",
       "      <td>37.590388</td>\n",
       "    </tr>\n",
       "    <tr>\n",
       "      <td>1</td>\n",
       "      <td>2018</td>\n",
       "      <td>2018-09-02 05:23</td>\n",
       "      <td>야</td>\n",
       "      <td>일</td>\n",
       "      <td>1</td>\n",
       "      <td>1</td>\n",
       "      <td>0</td>\n",
       "      <td>0</td>\n",
       "      <td>0</td>\n",
       "      <td>서울</td>\n",
       "      <td>...</td>\n",
       "      <td>교차로</td>\n",
       "      <td>교차로횡단보도내</td>\n",
       "      <td>승용차</td>\n",
       "      <td>승용차</td>\n",
       "      <td>보행자</td>\n",
       "      <td>보행자</td>\n",
       "      <td>953337.0</td>\n",
       "      <td>1950150.0</td>\n",
       "      <td>126.971732</td>\n",
       "      <td>37.549508</td>\n",
       "    </tr>\n",
       "    <tr>\n",
       "      <td>4</td>\n",
       "      <td>2018</td>\n",
       "      <td>2018-07-16 00:50</td>\n",
       "      <td>야</td>\n",
       "      <td>월</td>\n",
       "      <td>1</td>\n",
       "      <td>1</td>\n",
       "      <td>0</td>\n",
       "      <td>0</td>\n",
       "      <td>0</td>\n",
       "      <td>서울</td>\n",
       "      <td>...</td>\n",
       "      <td>교차로</td>\n",
       "      <td>교차로횡단보도내</td>\n",
       "      <td>화물차</td>\n",
       "      <td>화물차</td>\n",
       "      <td>보행자</td>\n",
       "      <td>보행자</td>\n",
       "      <td>957606.0</td>\n",
       "      <td>1958258.0</td>\n",
       "      <td>127.019590</td>\n",
       "      <td>37.622794</td>\n",
       "    </tr>\n",
       "    <tr>\n",
       "      <td>5</td>\n",
       "      <td>2018</td>\n",
       "      <td>2018-12-30 04:19</td>\n",
       "      <td>야</td>\n",
       "      <td>일</td>\n",
       "      <td>1</td>\n",
       "      <td>1</td>\n",
       "      <td>0</td>\n",
       "      <td>0</td>\n",
       "      <td>0</td>\n",
       "      <td>서울</td>\n",
       "      <td>...</td>\n",
       "      <td>단일로</td>\n",
       "      <td>기타단일로</td>\n",
       "      <td>승용차</td>\n",
       "      <td>승용차</td>\n",
       "      <td>보행자</td>\n",
       "      <td>보행자</td>\n",
       "      <td>957823.0</td>\n",
       "      <td>1957100.0</td>\n",
       "      <td>127.022115</td>\n",
       "      <td>37.612366</td>\n",
       "    </tr>\n",
       "    <tr>\n",
       "      <td>6</td>\n",
       "      <td>2018</td>\n",
       "      <td>2018-01-29 07:17</td>\n",
       "      <td>주</td>\n",
       "      <td>월</td>\n",
       "      <td>1</td>\n",
       "      <td>1</td>\n",
       "      <td>0</td>\n",
       "      <td>0</td>\n",
       "      <td>0</td>\n",
       "      <td>서울</td>\n",
       "      <td>...</td>\n",
       "      <td>단일로</td>\n",
       "      <td>기타단일로</td>\n",
       "      <td>화물차</td>\n",
       "      <td>화물차</td>\n",
       "      <td>보행자</td>\n",
       "      <td>보행자</td>\n",
       "      <td>963182.0</td>\n",
       "      <td>1948990.0</td>\n",
       "      <td>127.083241</td>\n",
       "      <td>37.539499</td>\n",
       "    </tr>\n",
       "  </tbody>\n",
       "</table>\n",
       "<p>5 rows × 26 columns</p>\n",
       "</div>"
      ],
      "text/plain": [
       "    발생년           발생년월일시분 주야 요일  사망자수  사상자수  중상자수  경상자수  부상신고자수 발생지시도  ...  \\\n",
       "0  2018  2018-02-14 06:35  주  수     1     1     0     0       0    서울  ...   \n",
       "1  2018  2018-09-02 05:23  야  일     1     1     0     0       0    서울  ...   \n",
       "4  2018  2018-07-16 00:50  야  월     1     1     0     0       0    서울  ...   \n",
       "5  2018  2018-12-30 04:19  야  일     1     1     0     0       0    서울  ...   \n",
       "6  2018  2018-01-29 07:17  주  월     1     1     0     0       0    서울  ...   \n",
       "\n",
       "  도로형태_대분류      도로형태 가해자_당사자종별_대분류 가해자_당사자종별 피해자_당사자종별_대분류 피해자_당사자종별  \\\n",
       "0      단일로     기타단일로           승용차       승용차           보행자       보행자   \n",
       "1      교차로  교차로횡단보도내           승용차       승용차           보행자       보행자   \n",
       "4      교차로  교차로횡단보도내           화물차       화물차           보행자       보행자   \n",
       "5      단일로     기타단일로           승용차       승용차           보행자       보행자   \n",
       "6      단일로     기타단일로           화물차       화물차           보행자       보행자   \n",
       "\n",
       "  발생위치X_UTMK 발생위치Y_UTMK          경도         위도  \n",
       "0   950497.0  1954702.0  126.939274  37.590388  \n",
       "1   953337.0  1950150.0  126.971732  37.549508  \n",
       "4   957606.0  1958258.0  127.019590  37.622794  \n",
       "5   957823.0  1957100.0  127.022115  37.612366  \n",
       "6   963182.0  1948990.0  127.083241  37.539499  \n",
       "\n",
       "[5 rows x 26 columns]"
      ]
     },
     "execution_count": 4,
     "metadata": {},
     "output_type": "execute_result"
    }
   ],
   "source": [
    "df.head()"
   ]
  },
  {
   "cell_type": "code",
   "execution_count": 5,
   "metadata": {},
   "outputs": [],
   "source": [
    "df.to_csv('df_car_human.csv',encoding = 'CP949',columns =['위도','경도'],index=False)"
   ]
  },
  {
   "cell_type": "code",
   "execution_count": 35,
   "metadata": {},
   "outputs": [
    {
     "data": {
      "text/html": [
       "<div>\n",
       "<style scoped>\n",
       "    .dataframe tbody tr th:only-of-type {\n",
       "        vertical-align: middle;\n",
       "    }\n",
       "\n",
       "    .dataframe tbody tr th {\n",
       "        vertical-align: top;\n",
       "    }\n",
       "\n",
       "    .dataframe thead th {\n",
       "        text-align: right;\n",
       "    }\n",
       "</style>\n",
       "<table border=\"1\" class=\"dataframe\">\n",
       "  <thead>\n",
       "    <tr style=\"text-align: right;\">\n",
       "      <th></th>\n",
       "      <th>발생년</th>\n",
       "      <th>발생년월일시분</th>\n",
       "      <th>주야</th>\n",
       "      <th>요일</th>\n",
       "      <th>사망자수</th>\n",
       "      <th>사상자수</th>\n",
       "      <th>중상자수</th>\n",
       "      <th>경상자수</th>\n",
       "      <th>부상신고자수</th>\n",
       "      <th>발생지시도</th>\n",
       "      <th>...</th>\n",
       "      <th>도로형태_대분류</th>\n",
       "      <th>도로형태</th>\n",
       "      <th>가해자_당사자종별_대분류</th>\n",
       "      <th>가해자_당사자종별</th>\n",
       "      <th>피해자_당사자종별_대분류</th>\n",
       "      <th>피해자_당사자종별</th>\n",
       "      <th>발생위치X_UTMK</th>\n",
       "      <th>발생위치Y_UTMK</th>\n",
       "      <th>경도</th>\n",
       "      <th>위도</th>\n",
       "    </tr>\n",
       "  </thead>\n",
       "  <tbody>\n",
       "    <tr>\n",
       "      <td>0</td>\n",
       "      <td>2018</td>\n",
       "      <td>2018-02-14 06:35</td>\n",
       "      <td>주</td>\n",
       "      <td>수</td>\n",
       "      <td>1</td>\n",
       "      <td>1</td>\n",
       "      <td>0</td>\n",
       "      <td>0</td>\n",
       "      <td>0</td>\n",
       "      <td>서울</td>\n",
       "      <td>...</td>\n",
       "      <td>단일로</td>\n",
       "      <td>기타단일로</td>\n",
       "      <td>승용차</td>\n",
       "      <td>승용차</td>\n",
       "      <td>보행자</td>\n",
       "      <td>보행자</td>\n",
       "      <td>950497.0</td>\n",
       "      <td>1954702.0</td>\n",
       "      <td>126.939274</td>\n",
       "      <td>37.590388</td>\n",
       "    </tr>\n",
       "    <tr>\n",
       "      <td>1</td>\n",
       "      <td>2018</td>\n",
       "      <td>2018-09-02 05:23</td>\n",
       "      <td>야</td>\n",
       "      <td>일</td>\n",
       "      <td>1</td>\n",
       "      <td>1</td>\n",
       "      <td>0</td>\n",
       "      <td>0</td>\n",
       "      <td>0</td>\n",
       "      <td>서울</td>\n",
       "      <td>...</td>\n",
       "      <td>교차로</td>\n",
       "      <td>교차로횡단보도내</td>\n",
       "      <td>승용차</td>\n",
       "      <td>승용차</td>\n",
       "      <td>보행자</td>\n",
       "      <td>보행자</td>\n",
       "      <td>953337.0</td>\n",
       "      <td>1950150.0</td>\n",
       "      <td>126.971732</td>\n",
       "      <td>37.549508</td>\n",
       "    </tr>\n",
       "    <tr>\n",
       "      <td>4</td>\n",
       "      <td>2018</td>\n",
       "      <td>2018-07-16 00:50</td>\n",
       "      <td>야</td>\n",
       "      <td>월</td>\n",
       "      <td>1</td>\n",
       "      <td>1</td>\n",
       "      <td>0</td>\n",
       "      <td>0</td>\n",
       "      <td>0</td>\n",
       "      <td>서울</td>\n",
       "      <td>...</td>\n",
       "      <td>교차로</td>\n",
       "      <td>교차로횡단보도내</td>\n",
       "      <td>화물차</td>\n",
       "      <td>화물차</td>\n",
       "      <td>보행자</td>\n",
       "      <td>보행자</td>\n",
       "      <td>957606.0</td>\n",
       "      <td>1958258.0</td>\n",
       "      <td>127.019590</td>\n",
       "      <td>37.622794</td>\n",
       "    </tr>\n",
       "    <tr>\n",
       "      <td>5</td>\n",
       "      <td>2018</td>\n",
       "      <td>2018-12-30 04:19</td>\n",
       "      <td>야</td>\n",
       "      <td>일</td>\n",
       "      <td>1</td>\n",
       "      <td>1</td>\n",
       "      <td>0</td>\n",
       "      <td>0</td>\n",
       "      <td>0</td>\n",
       "      <td>서울</td>\n",
       "      <td>...</td>\n",
       "      <td>단일로</td>\n",
       "      <td>기타단일로</td>\n",
       "      <td>승용차</td>\n",
       "      <td>승용차</td>\n",
       "      <td>보행자</td>\n",
       "      <td>보행자</td>\n",
       "      <td>957823.0</td>\n",
       "      <td>1957100.0</td>\n",
       "      <td>127.022115</td>\n",
       "      <td>37.612366</td>\n",
       "    </tr>\n",
       "    <tr>\n",
       "      <td>6</td>\n",
       "      <td>2018</td>\n",
       "      <td>2018-01-29 07:17</td>\n",
       "      <td>주</td>\n",
       "      <td>월</td>\n",
       "      <td>1</td>\n",
       "      <td>1</td>\n",
       "      <td>0</td>\n",
       "      <td>0</td>\n",
       "      <td>0</td>\n",
       "      <td>서울</td>\n",
       "      <td>...</td>\n",
       "      <td>단일로</td>\n",
       "      <td>기타단일로</td>\n",
       "      <td>화물차</td>\n",
       "      <td>화물차</td>\n",
       "      <td>보행자</td>\n",
       "      <td>보행자</td>\n",
       "      <td>963182.0</td>\n",
       "      <td>1948990.0</td>\n",
       "      <td>127.083241</td>\n",
       "      <td>37.539499</td>\n",
       "    </tr>\n",
       "    <tr>\n",
       "      <td>...</td>\n",
       "      <td>...</td>\n",
       "      <td>...</td>\n",
       "      <td>...</td>\n",
       "      <td>...</td>\n",
       "      <td>...</td>\n",
       "      <td>...</td>\n",
       "      <td>...</td>\n",
       "      <td>...</td>\n",
       "      <td>...</td>\n",
       "      <td>...</td>\n",
       "      <td>...</td>\n",
       "      <td>...</td>\n",
       "      <td>...</td>\n",
       "      <td>...</td>\n",
       "      <td>...</td>\n",
       "      <td>...</td>\n",
       "      <td>...</td>\n",
       "      <td>...</td>\n",
       "      <td>...</td>\n",
       "      <td>...</td>\n",
       "      <td>...</td>\n",
       "    </tr>\n",
       "    <tr>\n",
       "      <td>3643</td>\n",
       "      <td>2018</td>\n",
       "      <td>2018-12-22 17:50</td>\n",
       "      <td>주</td>\n",
       "      <td>토</td>\n",
       "      <td>1</td>\n",
       "      <td>2</td>\n",
       "      <td>0</td>\n",
       "      <td>1</td>\n",
       "      <td>0</td>\n",
       "      <td>경기</td>\n",
       "      <td>...</td>\n",
       "      <td>교차로</td>\n",
       "      <td>교차로부근</td>\n",
       "      <td>화물차</td>\n",
       "      <td>화물차</td>\n",
       "      <td>보행자</td>\n",
       "      <td>보행자</td>\n",
       "      <td>970431.0</td>\n",
       "      <td>1966978.0</td>\n",
       "      <td>127.164567</td>\n",
       "      <td>37.701891</td>\n",
       "    </tr>\n",
       "    <tr>\n",
       "      <td>3646</td>\n",
       "      <td>2018</td>\n",
       "      <td>2018-10-02 19:20</td>\n",
       "      <td>야</td>\n",
       "      <td>화</td>\n",
       "      <td>1</td>\n",
       "      <td>1</td>\n",
       "      <td>0</td>\n",
       "      <td>0</td>\n",
       "      <td>0</td>\n",
       "      <td>경기</td>\n",
       "      <td>...</td>\n",
       "      <td>단일로</td>\n",
       "      <td>기타단일로</td>\n",
       "      <td>승용차</td>\n",
       "      <td>승용차</td>\n",
       "      <td>보행자</td>\n",
       "      <td>보행자</td>\n",
       "      <td>940622.0</td>\n",
       "      <td>1981501.0</td>\n",
       "      <td>126.825239</td>\n",
       "      <td>37.831335</td>\n",
       "    </tr>\n",
       "    <tr>\n",
       "      <td>3647</td>\n",
       "      <td>2018</td>\n",
       "      <td>2018-02-05 19:38</td>\n",
       "      <td>야</td>\n",
       "      <td>월</td>\n",
       "      <td>1</td>\n",
       "      <td>1</td>\n",
       "      <td>0</td>\n",
       "      <td>0</td>\n",
       "      <td>0</td>\n",
       "      <td>경기</td>\n",
       "      <td>...</td>\n",
       "      <td>단일로</td>\n",
       "      <td>기타단일로</td>\n",
       "      <td>승용차</td>\n",
       "      <td>승용차</td>\n",
       "      <td>보행자</td>\n",
       "      <td>보행자</td>\n",
       "      <td>944479.0</td>\n",
       "      <td>1983127.0</td>\n",
       "      <td>126.868942</td>\n",
       "      <td>37.846233</td>\n",
       "    </tr>\n",
       "    <tr>\n",
       "      <td>3650</td>\n",
       "      <td>2018</td>\n",
       "      <td>2018-09-11 21:00</td>\n",
       "      <td>야</td>\n",
       "      <td>화</td>\n",
       "      <td>1</td>\n",
       "      <td>1</td>\n",
       "      <td>0</td>\n",
       "      <td>0</td>\n",
       "      <td>0</td>\n",
       "      <td>경기</td>\n",
       "      <td>...</td>\n",
       "      <td>단일로</td>\n",
       "      <td>기타단일로</td>\n",
       "      <td>승용차</td>\n",
       "      <td>승용차</td>\n",
       "      <td>보행자</td>\n",
       "      <td>보행자</td>\n",
       "      <td>967749.0</td>\n",
       "      <td>1954997.0</td>\n",
       "      <td>127.134672</td>\n",
       "      <td>37.593813</td>\n",
       "    </tr>\n",
       "    <tr>\n",
       "      <td>3651</td>\n",
       "      <td>2018</td>\n",
       "      <td>2018-07-15 20:05</td>\n",
       "      <td>야</td>\n",
       "      <td>일</td>\n",
       "      <td>1</td>\n",
       "      <td>1</td>\n",
       "      <td>0</td>\n",
       "      <td>0</td>\n",
       "      <td>0</td>\n",
       "      <td>경기</td>\n",
       "      <td>...</td>\n",
       "      <td>단일로</td>\n",
       "      <td>기타단일로</td>\n",
       "      <td>화물차</td>\n",
       "      <td>화물차</td>\n",
       "      <td>보행자</td>\n",
       "      <td>보행자</td>\n",
       "      <td>967448.0</td>\n",
       "      <td>1955055.0</td>\n",
       "      <td>127.131260</td>\n",
       "      <td>37.594325</td>\n",
       "    </tr>\n",
       "  </tbody>\n",
       "</table>\n",
       "<p>1436 rows × 26 columns</p>\n",
       "</div>"
      ],
      "text/plain": [
       "       발생년           발생년월일시분 주야 요일  사망자수  사상자수  중상자수  경상자수  부상신고자수 발생지시도  ...  \\\n",
       "0     2018  2018-02-14 06:35  주  수     1     1     0     0       0    서울  ...   \n",
       "1     2018  2018-09-02 05:23  야  일     1     1     0     0       0    서울  ...   \n",
       "4     2018  2018-07-16 00:50  야  월     1     1     0     0       0    서울  ...   \n",
       "5     2018  2018-12-30 04:19  야  일     1     1     0     0       0    서울  ...   \n",
       "6     2018  2018-01-29 07:17  주  월     1     1     0     0       0    서울  ...   \n",
       "...    ...               ... .. ..   ...   ...   ...   ...     ...   ...  ...   \n",
       "3643  2018  2018-12-22 17:50  주  토     1     2     0     1       0    경기  ...   \n",
       "3646  2018  2018-10-02 19:20  야  화     1     1     0     0       0    경기  ...   \n",
       "3647  2018  2018-02-05 19:38  야  월     1     1     0     0       0    경기  ...   \n",
       "3650  2018  2018-09-11 21:00  야  화     1     1     0     0       0    경기  ...   \n",
       "3651  2018  2018-07-15 20:05  야  일     1     1     0     0       0    경기  ...   \n",
       "\n",
       "     도로형태_대분류      도로형태 가해자_당사자종별_대분류 가해자_당사자종별 피해자_당사자종별_대분류 피해자_당사자종별  \\\n",
       "0         단일로     기타단일로           승용차       승용차           보행자       보행자   \n",
       "1         교차로  교차로횡단보도내           승용차       승용차           보행자       보행자   \n",
       "4         교차로  교차로횡단보도내           화물차       화물차           보행자       보행자   \n",
       "5         단일로     기타단일로           승용차       승용차           보행자       보행자   \n",
       "6         단일로     기타단일로           화물차       화물차           보행자       보행자   \n",
       "...       ...       ...           ...       ...           ...       ...   \n",
       "3643      교차로     교차로부근           화물차       화물차           보행자       보행자   \n",
       "3646      단일로     기타단일로           승용차       승용차           보행자       보행자   \n",
       "3647      단일로     기타단일로           승용차       승용차           보행자       보행자   \n",
       "3650      단일로     기타단일로           승용차       승용차           보행자       보행자   \n",
       "3651      단일로     기타단일로           화물차       화물차           보행자       보행자   \n",
       "\n",
       "     발생위치X_UTMK 발생위치Y_UTMK          경도         위도  \n",
       "0      950497.0  1954702.0  126.939274  37.590388  \n",
       "1      953337.0  1950150.0  126.971732  37.549508  \n",
       "4      957606.0  1958258.0  127.019590  37.622794  \n",
       "5      957823.0  1957100.0  127.022115  37.612366  \n",
       "6      963182.0  1948990.0  127.083241  37.539499  \n",
       "...         ...        ...         ...        ...  \n",
       "3643   970431.0  1966978.0  127.164567  37.701891  \n",
       "3646   940622.0  1981501.0  126.825239  37.831335  \n",
       "3647   944479.0  1983127.0  126.868942  37.846233  \n",
       "3650   967749.0  1954997.0  127.134672  37.593813  \n",
       "3651   967448.0  1955055.0  127.131260  37.594325  \n",
       "\n",
       "[1436 rows x 26 columns]"
      ]
     },
     "execution_count": 35,
     "metadata": {},
     "output_type": "execute_result"
    }
   ],
   "source": [
    "df"
   ]
  },
  {
   "cell_type": "code",
   "execution_count": 6,
   "metadata": {
    "scrolled": false
   },
   "outputs": [
    {
     "data": {
      "text/plain": [
       "602"
      ]
     },
     "execution_count": 6,
     "metadata": {},
     "output_type": "execute_result"
    }
   ],
   "source": [
    "df_day = df[df[\"주야\"]==\"주\"]\n",
    "sum(df_day[\"사상자수\"])"
   ]
  },
  {
   "cell_type": "code",
   "execution_count": 7,
   "metadata": {},
   "outputs": [
    {
     "data": {
      "text/plain": [
       "(555, 26)"
      ]
     },
     "execution_count": 7,
     "metadata": {},
     "output_type": "execute_result"
    }
   ],
   "source": [
    "df_day.shape"
   ]
  },
  {
   "cell_type": "code",
   "execution_count": 8,
   "metadata": {},
   "outputs": [
    {
     "data": {
      "text/plain": [
       "996"
      ]
     },
     "execution_count": 8,
     "metadata": {},
     "output_type": "execute_result"
    }
   ],
   "source": [
    "df_night = df[df[\"주야\"]==\"야\"]\n",
    "sum(df_night[\"사상자수\"])"
   ]
  },
  {
   "cell_type": "code",
   "execution_count": 9,
   "metadata": {},
   "outputs": [
    {
     "data": {
      "text/plain": [
       "(881, 26)"
      ]
     },
     "execution_count": 9,
     "metadata": {},
     "output_type": "execute_result"
    }
   ],
   "source": [
    "df_night.shape"
   ]
  },
  {
   "cell_type": "markdown",
   "metadata": {},
   "source": [
    "## 월"
   ]
  },
  {
   "cell_type": "code",
   "execution_count": 10,
   "metadata": {
    "scrolled": true
   },
   "outputs": [
    {
     "data": {
      "text/plain": [
       "(211, 26)"
      ]
     },
     "execution_count": 10,
     "metadata": {},
     "output_type": "execute_result"
    }
   ],
   "source": [
    "df_mon = df[df[\"요일\"]==\"월\"]\n",
    "df_mon.shape"
   ]
  },
  {
   "cell_type": "code",
   "execution_count": 11,
   "metadata": {},
   "outputs": [
    {
     "name": "stdout",
     "output_type": "stream",
     "text": [
      "101\n",
      "(95, 26)\n"
     ]
    }
   ],
   "source": [
    "df_mon_day = df_mon[df_mon[\"주야\"] == \"주\"]\n",
    "print(sum(df_mon_day[\"사상자수\"]))\n",
    "print(df_mon_day.shape)"
   ]
  },
  {
   "cell_type": "code",
   "execution_count": 12,
   "metadata": {
    "scrolled": true
   },
   "outputs": [
    {
     "name": "stdout",
     "output_type": "stream",
     "text": [
      "126\n",
      "(116, 26)\n"
     ]
    }
   ],
   "source": [
    "df_mon_night = df_mon[df_mon[\"주야\"] == \"야\"]\n",
    "print(sum(df_mon_night[\"사상자수\"]))\n",
    "print(df_mon_night.shape)"
   ]
  },
  {
   "cell_type": "markdown",
   "metadata": {},
   "source": [
    "## 화"
   ]
  },
  {
   "cell_type": "code",
   "execution_count": 13,
   "metadata": {},
   "outputs": [
    {
     "data": {
      "text/plain": [
       "(197, 26)"
      ]
     },
     "execution_count": 13,
     "metadata": {},
     "output_type": "execute_result"
    }
   ],
   "source": [
    "df_ghk = df[df[\"요일\"]==\"화\"]\n",
    "df_ghk.shape"
   ]
  },
  {
   "cell_type": "code",
   "execution_count": 14,
   "metadata": {},
   "outputs": [
    {
     "name": "stdout",
     "output_type": "stream",
     "text": [
      "86\n",
      "(86, 26)\n"
     ]
    }
   ],
   "source": [
    "df_ghk_day = df_ghk[df_ghk[\"주야\"] == \"주\"]\n",
    "print(sum(df_ghk_day[\"사상자수\"]))\n",
    "print(df_ghk_day.shape)"
   ]
  },
  {
   "cell_type": "code",
   "execution_count": 15,
   "metadata": {},
   "outputs": [
    {
     "name": "stdout",
     "output_type": "stream",
     "text": [
      "121\n",
      "(111, 26)\n"
     ]
    }
   ],
   "source": [
    "df_ghk_night = df_ghk[df_ghk[\"주야\"] == \"야\"]\n",
    "print(sum(df_ghk_night[\"사상자수\"]))\n",
    "print(df_ghk_night.shape)"
   ]
  },
  {
   "cell_type": "markdown",
   "metadata": {},
   "source": [
    "## 수"
   ]
  },
  {
   "cell_type": "code",
   "execution_count": 16,
   "metadata": {},
   "outputs": [
    {
     "data": {
      "text/plain": [
       "(214, 26)"
      ]
     },
     "execution_count": 16,
     "metadata": {},
     "output_type": "execute_result"
    }
   ],
   "source": [
    "df_tn = df[df[\"요일\"]==\"수\"]\n",
    "df_tn.shape"
   ]
  },
  {
   "cell_type": "code",
   "execution_count": 17,
   "metadata": {},
   "outputs": [
    {
     "name": "stdout",
     "output_type": "stream",
     "text": [
      "84\n",
      "(80, 26)\n"
     ]
    }
   ],
   "source": [
    "df_tn_day = df_tn[df_tn[\"주야\"] == \"주\"]\n",
    "print(sum(df_tn_day[\"사상자수\"]))\n",
    "print(df_tn_day.shape)"
   ]
  },
  {
   "cell_type": "code",
   "execution_count": 18,
   "metadata": {},
   "outputs": [
    {
     "name": "stdout",
     "output_type": "stream",
     "text": [
      "166\n",
      "(134, 26)\n"
     ]
    }
   ],
   "source": [
    "df_tn_night = df_tn[df_tn[\"주야\"] == \"야\"]\n",
    "print(sum(df_tn_night[\"사상자수\"]))\n",
    "print(df_tn_night.shape)"
   ]
  },
  {
   "cell_type": "markdown",
   "metadata": {},
   "source": [
    "## 목"
   ]
  },
  {
   "cell_type": "code",
   "execution_count": 19,
   "metadata": {},
   "outputs": [
    {
     "data": {
      "text/plain": [
       "(207, 26)"
      ]
     },
     "execution_count": 19,
     "metadata": {},
     "output_type": "execute_result"
    }
   ],
   "source": [
    "df_ahr = df[df[\"요일\"]==\"목\"]\n",
    "df_ahr.shape"
   ]
  },
  {
   "cell_type": "code",
   "execution_count": 20,
   "metadata": {},
   "outputs": [
    {
     "name": "stdout",
     "output_type": "stream",
     "text": [
      "105\n",
      "(94, 26)\n"
     ]
    }
   ],
   "source": [
    "df_ahr_day = df_ahr[df_ahr[\"주야\"] == \"주\"]\n",
    "print(sum(df_ahr_day[\"사상자수\"]))\n",
    "print(df_ahr_day.shape)"
   ]
  },
  {
   "cell_type": "code",
   "execution_count": 21,
   "metadata": {},
   "outputs": [
    {
     "name": "stdout",
     "output_type": "stream",
     "text": [
      "120\n",
      "(113, 26)\n"
     ]
    }
   ],
   "source": [
    "df_ahr_night = df_ahr[df_ahr[\"주야\"] == \"야\"]\n",
    "print(sum(df_ahr_night[\"사상자수\"]))\n",
    "print(df_ahr_night.shape)"
   ]
  },
  {
   "cell_type": "markdown",
   "metadata": {},
   "source": [
    "## 금"
   ]
  },
  {
   "cell_type": "code",
   "execution_count": 22,
   "metadata": {
    "scrolled": true
   },
   "outputs": [
    {
     "data": {
      "text/plain": [
       "(239, 26)"
      ]
     },
     "execution_count": 22,
     "metadata": {},
     "output_type": "execute_result"
    }
   ],
   "source": [
    "df_rma = df[df[\"요일\"]==\"금\"]\n",
    "df_rma.shape"
   ]
  },
  {
   "cell_type": "code",
   "execution_count": 23,
   "metadata": {
    "scrolled": false
   },
   "outputs": [
    {
     "name": "stdout",
     "output_type": "stream",
     "text": [
      "105\n",
      "(94, 26)\n"
     ]
    }
   ],
   "source": [
    "df_rma_day = df_rma[df_rma[\"주야\"] == \"주\"]\n",
    "print(sum(df_rma_day[\"사상자수\"]))\n",
    "print(df_rma_day.shape)"
   ]
  },
  {
   "cell_type": "code",
   "execution_count": 24,
   "metadata": {},
   "outputs": [
    {
     "name": "stdout",
     "output_type": "stream",
     "text": [
      "155\n",
      "(145, 26)\n"
     ]
    }
   ],
   "source": [
    "df_rma_night = df_rma[df_rma[\"주야\"] == \"야\"]\n",
    "print(sum(df_rma_night[\"사상자수\"]))\n",
    "print(df_rma_night.shape)"
   ]
  },
  {
   "cell_type": "markdown",
   "metadata": {},
   "source": [
    "## 토"
   ]
  },
  {
   "cell_type": "code",
   "execution_count": 25,
   "metadata": {},
   "outputs": [
    {
     "data": {
      "text/plain": [
       "(208, 26)"
      ]
     },
     "execution_count": 25,
     "metadata": {},
     "output_type": "execute_result"
    }
   ],
   "source": [
    "df_xh = df[df[\"요일\"]==\"토\"]\n",
    "df_xh.shape"
   ]
  },
  {
   "cell_type": "code",
   "execution_count": 26,
   "metadata": {},
   "outputs": [
    {
     "name": "stdout",
     "output_type": "stream",
     "text": [
      "82\n",
      "(71, 26)\n"
     ]
    }
   ],
   "source": [
    "df_xh_day = df_xh[df_xh[\"주야\"] == \"주\"]\n",
    "print(sum(df_xh_day[\"사상자수\"]))\n",
    "print(df_xh_day.shape)"
   ]
  },
  {
   "cell_type": "code",
   "execution_count": 27,
   "metadata": {},
   "outputs": [
    {
     "name": "stdout",
     "output_type": "stream",
     "text": [
      "156\n",
      "(137, 26)\n"
     ]
    }
   ],
   "source": [
    "df_xh_night = df_xh[df_xh[\"주야\"] == \"야\"]\n",
    "print(sum(df_xh_night[\"사상자수\"]))\n",
    "print(df_xh_night.shape)"
   ]
  },
  {
   "cell_type": "markdown",
   "metadata": {},
   "source": [
    "## 일"
   ]
  },
  {
   "cell_type": "code",
   "execution_count": 28,
   "metadata": {},
   "outputs": [
    {
     "data": {
      "text/plain": [
       "(160, 26)"
      ]
     },
     "execution_count": 28,
     "metadata": {},
     "output_type": "execute_result"
    }
   ],
   "source": [
    "df_sun = df[df[\"요일\"]==\"일\"]\n",
    "df_sun.shape"
   ]
  },
  {
   "cell_type": "code",
   "execution_count": 29,
   "metadata": {},
   "outputs": [
    {
     "name": "stdout",
     "output_type": "stream",
     "text": [
      "39\n",
      "(35, 26)\n"
     ]
    }
   ],
   "source": [
    "df_sun_day = df_sun[df_sun[\"주야\"] == \"주\"]\n",
    "print(sum(df_sun_day[\"사상자수\"]))\n",
    "print(df_sun_day.shape)"
   ]
  },
  {
   "cell_type": "code",
   "execution_count": 30,
   "metadata": {},
   "outputs": [
    {
     "name": "stdout",
     "output_type": "stream",
     "text": [
      "152\n",
      "(125, 26)\n"
     ]
    }
   ],
   "source": [
    "df_sun_night = df_sun[df_sun[\"주야\"] == \"야\"]\n",
    "print(sum(df_sun_night[\"사상자수\"]))\n",
    "print(df_sun_night.shape)"
   ]
  },
  {
   "cell_type": "code",
   "execution_count": 31,
   "metadata": {},
   "outputs": [],
   "source": [
    "ingu = pd.DataFrame(data ={\"인구수\" :[13145482,\n",
    "                                   9762062,\n",
    "                                   3429595,\n",
    "                                   2671036,\n",
    "                                   3369949,\n",
    "                                   2957179,\n",
    "                                   2452291,\n",
    "                                   1598775,\n",
    "                                   2125778,\n",
    "                                   1830499,\n",
    "                                   1874232,\n",
    "                                   1540776,\n",
    "                                   1484398,\n",
    "                                   1459003,\n",
    "                                   1151685,\n",
    "                                   669328]}\n",
    "            ,index=['경기','서울','부산','경북','경남','인천','대구','충북','충남','전북','전남','강원','대전','광주','울산','제주'])\n"
   ]
  },
  {
   "cell_type": "code",
   "execution_count": 32,
   "metadata": {},
   "outputs": [
    {
     "data": {
      "text/html": [
       "<div>\n",
       "<style scoped>\n",
       "    .dataframe tbody tr th:only-of-type {\n",
       "        vertical-align: middle;\n",
       "    }\n",
       "\n",
       "    .dataframe tbody tr th {\n",
       "        vertical-align: top;\n",
       "    }\n",
       "\n",
       "    .dataframe thead th {\n",
       "        text-align: right;\n",
       "    }\n",
       "</style>\n",
       "<table border=\"1\" class=\"dataframe\">\n",
       "  <thead>\n",
       "    <tr style=\"text-align: right;\">\n",
       "      <th></th>\n",
       "      <th>인구수</th>\n",
       "    </tr>\n",
       "  </thead>\n",
       "  <tbody>\n",
       "    <tr>\n",
       "      <td>경기</td>\n",
       "      <td>13145482</td>\n",
       "    </tr>\n",
       "    <tr>\n",
       "      <td>서울</td>\n",
       "      <td>9762062</td>\n",
       "    </tr>\n",
       "    <tr>\n",
       "      <td>부산</td>\n",
       "      <td>3429595</td>\n",
       "    </tr>\n",
       "    <tr>\n",
       "      <td>경북</td>\n",
       "      <td>2671036</td>\n",
       "    </tr>\n",
       "    <tr>\n",
       "      <td>경남</td>\n",
       "      <td>3369949</td>\n",
       "    </tr>\n",
       "    <tr>\n",
       "      <td>인천</td>\n",
       "      <td>2957179</td>\n",
       "    </tr>\n",
       "    <tr>\n",
       "      <td>대구</td>\n",
       "      <td>2452291</td>\n",
       "    </tr>\n",
       "    <tr>\n",
       "      <td>충북</td>\n",
       "      <td>1598775</td>\n",
       "    </tr>\n",
       "    <tr>\n",
       "      <td>충남</td>\n",
       "      <td>2125778</td>\n",
       "    </tr>\n",
       "    <tr>\n",
       "      <td>전북</td>\n",
       "      <td>1830499</td>\n",
       "    </tr>\n",
       "    <tr>\n",
       "      <td>전남</td>\n",
       "      <td>1874232</td>\n",
       "    </tr>\n",
       "    <tr>\n",
       "      <td>강원</td>\n",
       "      <td>1540776</td>\n",
       "    </tr>\n",
       "    <tr>\n",
       "      <td>대전</td>\n",
       "      <td>1484398</td>\n",
       "    </tr>\n",
       "    <tr>\n",
       "      <td>광주</td>\n",
       "      <td>1459003</td>\n",
       "    </tr>\n",
       "    <tr>\n",
       "      <td>울산</td>\n",
       "      <td>1151685</td>\n",
       "    </tr>\n",
       "    <tr>\n",
       "      <td>제주</td>\n",
       "      <td>669328</td>\n",
       "    </tr>\n",
       "  </tbody>\n",
       "</table>\n",
       "</div>"
      ],
      "text/plain": [
       "         인구수\n",
       "경기  13145482\n",
       "서울   9762062\n",
       "부산   3429595\n",
       "경북   2671036\n",
       "경남   3369949\n",
       "인천   2957179\n",
       "대구   2452291\n",
       "충북   1598775\n",
       "충남   2125778\n",
       "전북   1830499\n",
       "전남   1874232\n",
       "강원   1540776\n",
       "대전   1484398\n",
       "광주   1459003\n",
       "울산   1151685\n",
       "제주    669328"
      ]
     },
     "execution_count": 32,
     "metadata": {},
     "output_type": "execute_result"
    }
   ],
   "source": [
    "ingu"
   ]
  },
  {
   "cell_type": "code",
   "execution_count": 33,
   "metadata": {},
   "outputs": [],
   "source": [
    "ingumildo = pd.DataFrame(data ={\"인구밀도\" :[1226,16364,4480,141,316,2756,2791,215,257,227,146,90,2852,2999,1100,328]}\n",
    "            ,index=['경기','서울','부산','경북','경남','인천','대구','충북','충남','전북','전남','강원','대전','광주','울산','제주'])\n"
   ]
  },
  {
   "cell_type": "code",
   "execution_count": 34,
   "metadata": {},
   "outputs": [
    {
     "data": {
      "text/html": [
       "<div>\n",
       "<style scoped>\n",
       "    .dataframe tbody tr th:only-of-type {\n",
       "        vertical-align: middle;\n",
       "    }\n",
       "\n",
       "    .dataframe tbody tr th {\n",
       "        vertical-align: top;\n",
       "    }\n",
       "\n",
       "    .dataframe thead th {\n",
       "        text-align: right;\n",
       "    }\n",
       "</style>\n",
       "<table border=\"1\" class=\"dataframe\">\n",
       "  <thead>\n",
       "    <tr style=\"text-align: right;\">\n",
       "      <th></th>\n",
       "      <th>인구밀도</th>\n",
       "    </tr>\n",
       "  </thead>\n",
       "  <tbody>\n",
       "    <tr>\n",
       "      <td>경기</td>\n",
       "      <td>1226</td>\n",
       "    </tr>\n",
       "    <tr>\n",
       "      <td>서울</td>\n",
       "      <td>16364</td>\n",
       "    </tr>\n",
       "    <tr>\n",
       "      <td>부산</td>\n",
       "      <td>4480</td>\n",
       "    </tr>\n",
       "    <tr>\n",
       "      <td>경북</td>\n",
       "      <td>141</td>\n",
       "    </tr>\n",
       "    <tr>\n",
       "      <td>경남</td>\n",
       "      <td>316</td>\n",
       "    </tr>\n",
       "    <tr>\n",
       "      <td>인천</td>\n",
       "      <td>2756</td>\n",
       "    </tr>\n",
       "    <tr>\n",
       "      <td>대구</td>\n",
       "      <td>2791</td>\n",
       "    </tr>\n",
       "    <tr>\n",
       "      <td>충북</td>\n",
       "      <td>215</td>\n",
       "    </tr>\n",
       "    <tr>\n",
       "      <td>충남</td>\n",
       "      <td>257</td>\n",
       "    </tr>\n",
       "    <tr>\n",
       "      <td>전북</td>\n",
       "      <td>227</td>\n",
       "    </tr>\n",
       "    <tr>\n",
       "      <td>전남</td>\n",
       "      <td>146</td>\n",
       "    </tr>\n",
       "    <tr>\n",
       "      <td>강원</td>\n",
       "      <td>90</td>\n",
       "    </tr>\n",
       "    <tr>\n",
       "      <td>대전</td>\n",
       "      <td>2852</td>\n",
       "    </tr>\n",
       "    <tr>\n",
       "      <td>광주</td>\n",
       "      <td>2999</td>\n",
       "    </tr>\n",
       "    <tr>\n",
       "      <td>울산</td>\n",
       "      <td>1100</td>\n",
       "    </tr>\n",
       "    <tr>\n",
       "      <td>제주</td>\n",
       "      <td>328</td>\n",
       "    </tr>\n",
       "  </tbody>\n",
       "</table>\n",
       "</div>"
      ],
      "text/plain": [
       "     인구밀도\n",
       "경기   1226\n",
       "서울  16364\n",
       "부산   4480\n",
       "경북    141\n",
       "경남    316\n",
       "인천   2756\n",
       "대구   2791\n",
       "충북    215\n",
       "충남    257\n",
       "전북    227\n",
       "전남    146\n",
       "강원     90\n",
       "대전   2852\n",
       "광주   2999\n",
       "울산   1100\n",
       "제주    328"
      ]
     },
     "execution_count": 34,
     "metadata": {},
     "output_type": "execute_result"
    }
   ],
   "source": [
    "ingumildo"
   ]
  },
  {
   "cell_type": "code",
   "execution_count": null,
   "metadata": {},
   "outputs": [],
   "source": []
  }
 ],
 "metadata": {
  "kernelspec": {
   "display_name": "Python 3",
   "language": "python",
   "name": "python3"
  },
  "language_info": {
   "codemirror_mode": {
    "name": "ipython",
    "version": 3
   },
   "file_extension": ".py",
   "mimetype": "text/x-python",
   "name": "python",
   "nbconvert_exporter": "python",
   "pygments_lexer": "ipython3",
   "version": "3.7.4"
  }
 },
 "nbformat": 4,
 "nbformat_minor": 2
}
